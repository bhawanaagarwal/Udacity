{
 "cells": [
  {
   "cell_type": "markdown",
   "metadata": {},
   "source": [
    "# Mean Normalization\n",
    "\n",
    "In machine learning we use large amounts of data to train our models. Some machine learning algorithms may require that the data is *normalized* in order to work correctly. The idea of normalization, also known as *feature scaling*, is to ensure that all the data is on a similar scale, *i.e.* that all the data takes on a similar range of values. For example, we might have a dataset that has values between 0 and 5,000. By normalizing the data we can make the range of values be between 0 and 1.\n",
    "\n",
    "In this lab, you will be performing a different kind of feature scaling known as *mean normalization*. Mean normalization will scale the data, but instead of making the values be between 0 and 1, it will distribute the values evenly in some small interval around zero. For example, if we have a dataset that has values between 0 and 5,000, after mean normalization the range of values will be distributed in some small range around 0, for example between -3 to 3. Because the range of values are distributed evenly around zero, this guarantees that the average (mean) of all elements will be zero. Therefore, when you perform *mean normalization* your data will not only be scaled but it will also have an average of zero. \n",
    "\n",
    "# To Do:\n",
    "\n",
    "You will start by importing NumPy and creating a rank 2 ndarray of random integers between 0 and 5,000 (inclusive) with 1000 rows and 20 columns. This array will simulate a dataset with a wide range of values. Fill in the code below"
   ]
  },
  {
   "cell_type": "code",
   "execution_count": 19,
   "metadata": {},
   "outputs": [
    {
     "name": "stdout",
     "output_type": "stream",
     "text": [
      "(1000, 20)\n"
     ]
    }
   ],
   "source": [
    "# import NumPy into Python\n",
    "import numpy as np\n",
    "\n",
    "\n",
    "# Create a 1000 x 20 ndarray with random integers in the half-open interval [0, 5001).\n",
    "X = np.random.randint(5001, size=(1000,20))\n",
    "\n",
    "# print the shape of X\n",
    "print(X.shape)\n"
   ]
  },
  {
   "cell_type": "markdown",
   "metadata": {},
   "source": [
    "Now that you created the array we will mean normalize it. We will perform mean normalization using the following equation:\n",
    "\n",
    "$\\mbox{Norm_Col}_i = \\frac{\\mbox{Col}_i - \\mu_i}{\\sigma_i}$\n",
    "\n",
    "where $\\mbox{Col}_i$ is the $i$th column of $X$, $\\mu_i$ is average of the values in the $i$th column of $X$, and $\\sigma_i$ is the standard deviation of the values in the $i$th column of $X$. In other words, mean normalization is performed by subtracting from each column of $X$ the average of its values, and then by dividing by the standard deviation of its values. In the space below, you will first calculate the average and standard deviation of each column of $X$. "
   ]
  },
  {
   "cell_type": "code",
   "execution_count": 20,
   "metadata": {},
   "outputs": [],
   "source": [
    "# Average of the values in each column of X\n",
    "ave_cols = np.mean(X, axis=0)\n",
    "\n",
    "# Standard Deviation of the values in each column of X\n",
    "std_cols = np.std(X, axis=0)"
   ]
  },
  {
   "cell_type": "markdown",
   "metadata": {},
   "source": [
    "If you have done the above calculations correctly, then `ave_cols` and `std_cols`, should both be vectors with shape `(20,)` since $X$ has 20 columns. You can verify this by filling the code below:"
   ]
  },
  {
   "cell_type": "code",
   "execution_count": 21,
   "metadata": {},
   "outputs": [
    {
     "name": "stdout",
     "output_type": "stream",
     "text": [
      "(20,)\n",
      "(20,)\n"
     ]
    }
   ],
   "source": [
    "# Print the shape of ave_cols\n",
    "print(ave_cols.shape)\n",
    "\n",
    "# Print the shape of std_cols\n",
    "print(std_cols.shape)"
   ]
  },
  {
   "cell_type": "markdown",
   "metadata": {},
   "source": [
    "You can now take advantage of Broadcasting to calculate the mean normalized version of $X$ in just one line of code using the equation above. Fill in the code below"
   ]
  },
  {
   "cell_type": "code",
   "execution_count": 22,
   "metadata": {},
   "outputs": [],
   "source": [
    "# Mean normalize X\n",
    "X_norm = (X-ave_cols)/std_cols"
   ]
  },
  {
   "cell_type": "markdown",
   "metadata": {},
   "source": [
    "If you have performed the mean normalization correctly, then the average of all the elements in $X_{\\tiny{\\mbox{norm}}}$ should be close to zero, and they should be evenly distributed in some small interval around zero. You can verify this by filing the code below:"
   ]
  },
  {
   "cell_type": "code",
   "execution_count": 26,
   "metadata": {},
   "outputs": [
    {
     "name": "stdout",
     "output_type": "stream",
     "text": [
      "-3.51718654201e-17\n",
      "-1.733666341\n",
      "1.72969865886\n"
     ]
    }
   ],
   "source": [
    "# Print the average of all the values of X_norm\n",
    "print(np.mean(X_norm))\n",
    "\n",
    "print(np.mean(np.min(X_norm, axis=0)))\n",
    "\n",
    "# Print the average of the maximum value in each column of X_norm\n",
    "print(np.mean(np.max(X_norm, axis=0)))"
   ]
  },
  {
   "cell_type": "markdown",
   "metadata": {},
   "source": [
    "You should note that since $X$ was created using random integers, the above values will vary. \n",
    "\n",
    "# Data Separation\n",
    "\n",
    "After the data has been mean normalized, it is customary in machine learnig to split our dataset into three sets:\n",
    "\n",
    "1. A Training Set\n",
    "2. A Cross Validation Set\n",
    "3. A Test Set\n",
    "\n",
    "The dataset is usually divided such that the Training Set contains 60% of the data, the Cross Validation Set contains 20% of the data, and the Test Set contains 20% of the data. \n",
    "\n",
    "In this part of the lab you will separate `X_norm` into a Training Set, Cross Validation Set, and a Test Set. Each data set will contain rows of `X_norm` chosen at random, making sure that we don't pick the same row twice. This will guarantee that all the rows of `X_norm` are chosen and randomly distributed among the three new sets.\n",
    "\n",
    "You will start by creating a rank 1 ndarray that contains a random permutation of the row indices of `X_norm`. You can do this by using the `np.random.permutation()` function. The `np.random.permutation(N)` function creates a random permutation of integers from 0 to `N - 1`. Let's see an example:"
   ]
  },
  {
   "cell_type": "code",
   "execution_count": 27,
   "metadata": {},
   "outputs": [
    {
     "data": {
      "text/plain": [
       "array([1, 4, 0, 2, 3])"
      ]
     },
     "execution_count": 27,
     "metadata": {},
     "output_type": "execute_result"
    }
   ],
   "source": [
    "# We create a random permutation of integers 0 to 4\n",
    "np.random.permutation(5)"
   ]
  },
  {
   "cell_type": "markdown",
   "metadata": {},
   "source": [
    "# To Do\n",
    "\n",
    "In the space below create a rank 1 ndarray that contains a random permutation of the row indices of `X_norm`. You can do this in one line of code by extracting the number of rows of `X_norm` using the `shape` attribute and then passing it to the  `np.random.permutation()` function. Remember the `shape` attribute returns a tuple with two numbers in the form `(rows,columns)`."
   ]
  },
  {
   "cell_type": "code",
   "execution_count": 29,
   "metadata": {},
   "outputs": [
    {
     "data": {
      "text/plain": [
       "array([607, 177, 184, 722,  19, 853, 457, 421, 764, 497, 906, 451, 978,\n",
       "       200, 813, 172, 685, 484, 361, 914, 169, 180, 691,   6, 596, 709,\n",
       "       882, 935, 677,  92, 243, 307, 994, 490,  69, 704, 385, 225,  88,\n",
       "        17,  16,  39, 489,  85, 381, 917, 743, 312, 941, 963, 961, 562,\n",
       "       400, 363, 811, 798, 919,  31, 699, 350, 881, 300, 433, 238, 478,\n",
       "       646, 985, 872,   7, 521, 276, 550, 884, 447,  66, 900, 599, 398,\n",
       "       998, 271, 756, 948, 650,  36, 357, 791, 635,  44, 703,   9, 966,\n",
       "       297, 725, 595, 112, 380, 344, 643, 500,  95, 366, 705, 517, 715,\n",
       "       999, 125, 115, 342, 767, 124, 308, 383, 692, 185, 282, 890, 852,\n",
       "        89, 807, 783, 801,  70, 883, 260, 465, 997, 796, 636,  23, 970,\n",
       "       120, 491, 206,  11, 816, 248, 434, 754, 470, 854,  62, 570, 147,\n",
       "       578, 526, 696, 902, 950, 208, 545, 275, 556, 712, 942, 539, 727,\n",
       "       429,  50, 444, 141,  60, 476, 189, 716, 755, 315, 955, 634, 118,\n",
       "       506, 683, 158, 964, 592, 462, 479, 334, 551, 707, 886, 747, 382,\n",
       "       204, 689, 989,  59, 583, 520, 291, 211, 878, 865, 603, 717, 482,\n",
       "        97, 507,  28,  56,   0,   4, 876, 610, 662, 843, 982, 247, 188,\n",
       "       493, 110,  96, 700, 430, 122, 280, 744, 895, 332, 319, 589, 673,\n",
       "       946, 331, 218, 389, 781, 734, 283, 277, 604, 826, 302, 687, 959,\n",
       "       943,  32, 209, 197, 615,  51, 317, 629, 569, 432, 858, 574, 322,\n",
       "       527, 614, 406, 658, 428, 708, 806, 694, 618, 284, 812, 680, 954,\n",
       "        10, 842, 121,  40, 519, 933, 760,  24, 151, 977, 748, 799, 309,\n",
       "       144, 996, 663, 857, 544, 316, 560, 563, 314, 671, 981, 608, 136,\n",
       "       194, 415, 239, 984, 347, 529, 102, 797, 395, 913,  68, 839, 661,\n",
       "       234, 654, 255, 668, 375, 160, 460, 778, 503, 802, 845,  99, 435,\n",
       "       869, 359,  46, 371, 358, 140, 804, 765, 567, 960, 667, 540, 622,\n",
       "       343,  15, 422, 264, 399, 609, 296, 737, 409, 620, 992, 346, 473,\n",
       "        14, 720, 958, 472, 558, 258, 793, 138, 849, 740, 873, 831, 777,\n",
       "       835, 288, 453, 976, 887, 856, 514, 378, 794, 730, 833, 516, 672,\n",
       "       230, 733, 408, 252, 356, 565, 231, 153,  86, 719, 171,   2,  25,\n",
       "        83, 178, 795, 679, 335, 832, 927, 718, 789, 367, 934, 710, 461,\n",
       "       328, 542,  84, 251, 761, 728, 785, 736, 630, 263, 117, 645, 168,\n",
       "        87, 494, 167, 504, 991, 411, 525, 318, 418,  72, 290, 458,  45,\n",
       "        47, 568, 299, 510, 313, 706,   1, 928, 980, 823, 649, 165, 486,\n",
       "        61, 729, 133, 250, 817,  71, 752, 936, 377, 775, 152, 628, 236,\n",
       "       437, 402, 641, 190,  82, 624, 487, 368, 664,  65, 810, 932, 155,\n",
       "       257, 530, 962,  94, 528, 669, 353, 148, 598, 448, 131, 841, 750,\n",
       "       745, 364, 766, 195, 968, 501, 329, 642, 923, 227, 134, 372, 113,\n",
       "       951, 401, 538, 774,  81, 987, 702,  80, 564,  73, 840, 714, 674,\n",
       "       163, 534, 627, 164, 587, 975,  33, 864, 921, 693, 698, 281, 787,\n",
       "       986,  27, 393, 126,  42, 414,  20, 903, 427, 738,  26, 244, 374,\n",
       "       938, 768, 880, 515, 555,  53, 226, 116, 109, 532, 365, 617, 386,\n",
       "       553, 352, 846, 969, 732, 426, 161, 394, 541, 511, 166, 763, 392,\n",
       "       688, 295, 874, 850, 606, 182, 495, 266, 828, 990, 897, 588, 546,\n",
       "        55, 537, 584, 613, 348, 232, 605, 311, 310, 289, 590, 571, 143,\n",
       "       268, 552, 305, 889, 659, 566, 898, 321, 187, 814, 790,  48, 139,\n",
       "       416, 293, 404, 129, 611, 726, 349, 647,  64, 241,  35, 333, 937,\n",
       "       481, 390, 360, 892, 326, 249, 149, 162, 176, 269, 327, 905,  52,\n",
       "       362, 471, 397, 100, 626, 543, 633, 198, 203, 616,  29,  77, 105,\n",
       "       142, 123,  13, 499, 580, 912, 713, 424, 246, 370, 910, 848, 373,\n",
       "       772, 388, 325, 492, 885, 502, 186, 824, 475, 193, 518, 274, 776,\n",
       "        57, 175, 285, 822,  63, 259, 376, 442, 731, 337, 863, 468, 944,\n",
       "       901, 292, 464, 916, 387, 459, 212, 157, 265, 682, 973, 419, 639,\n",
       "       192, 103, 769, 278, 466,  49, 101, 904, 631, 159, 836, 792, 407,\n",
       "       572,   5, 652, 104, 245, 640, 449, 875, 215, 128, 930, 653, 547,\n",
       "       384, 591,   3, 391, 600, 351, 924, 254,  58, 423, 256, 909, 512,\n",
       "       509, 396, 111, 773, 819, 918, 533, 235, 531, 800, 201, 757, 179,\n",
       "       788, 956, 972, 784, 695, 440, 173,  78, 711,  41,  43,  90, 644,\n",
       "       294, 339, 474, 803,  34, 855, 303, 721, 213, 441, 306, 436, 156,\n",
       "       485, 593, 403, 145, 879, 908, 446, 947, 221, 893, 229, 678, 894,\n",
       "       233,  21, 915, 847, 859, 870, 477, 723, 483,  75, 601, 940,  54,\n",
       "         8, 107, 762, 681, 354, 262, 877, 304, 261, 929, 273, 345,  76,\n",
       "       287, 911, 896, 724, 130, 220, 953, 132, 827, 786, 270, 676, 749,\n",
       "       338, 508, 443, 452, 779, 549, 899, 431,  79, 834, 341, 621, 242,\n",
       "        93, 536, 222, 820, 697, 106, 637, 535, 818, 183, 438, 174, 675,\n",
       "       425, 301, 137, 751, 413, 202, 154, 267, 469, 205, 891, 844, 573,\n",
       "       196, 602, 829,  38, 742, 735, 272, 739, 324, 412, 825, 830, 488,\n",
       "       632, 979, 336, 753, 405, 207, 837, 871, 660, 379, 108, 410, 922,\n",
       "       815, 577, 782, 127, 907,  22, 369, 967, 684, 286, 952,  91, 480,\n",
       "       701, 957, 920, 861, 851, 867, 656, 498, 670, 625, 217, 581, 809,\n",
       "       496, 939, 554, 862, 971, 575, 868, 524, 690, 279, 638, 651,  12,\n",
       "       253, 445, 925, 181, 210, 746,  18, 513, 759, 623, 993, 808, 974,\n",
       "       467, 454, 585, 330, 557, 523, 949, 582, 323,  30, 228, 995, 758,\n",
       "       119, 838, 931, 223, 805, 146, 657,  74, 320, 455, 686, 114, 888,\n",
       "       648, 505, 463,  67, 439, 655, 298, 983, 240, 237, 926, 548, 945,\n",
       "       612, 619, 224, 866, 170, 770, 199, 219, 456,  98,  37, 216, 420,\n",
       "       522, 559, 741, 150, 860, 450, 666, 355, 214, 561, 340, 135, 821,\n",
       "       780, 594, 597, 988, 576, 191, 586, 771, 579, 665, 417, 965])"
      ]
     },
     "execution_count": 29,
     "metadata": {},
     "output_type": "execute_result"
    }
   ],
   "source": [
    "# Create a rank 1 ndarray that contains a random permutation of the row indices of `X_norm`\n",
    "row_indices = np.random.permutation(X_norm.shape[0])\n",
    "row_indices"
   ]
  },
  {
   "cell_type": "markdown",
   "metadata": {},
   "source": [
    "Now you can create the three datasets using the `row_indices` ndarray to select the rows that will go into each dataset. Rememeber that the Training Set contains 60% of the data, the Cross Validation Set contains 20% of the data, and the Test Set contains 20% of the data. Each set requires just one line of code to create. Fill in the code below"
   ]
  },
  {
   "cell_type": "code",
   "execution_count": null,
   "metadata": {},
   "outputs": [],
   "source": [
    "# Make any necessary calculations.\n",
    "# You can save your calculations into variables to use later.\n",
    "\n",
    "sixty = int(len(X_norm)*0.60)\n",
    "\n",
    "eighty = int(len(X_norm)*0.80)\n",
    "\n",
    "# Create a Training Set\n",
    "X_train = X_norm.take(row_indices[:sixty])\n",
    "\n",
    "# Create a Cross Validation Set\n",
    "X_crossVal = X_norm.take(row_indices[sixty])\n",
    "\n",
    "# Create a Test Set\n",
    "X_test ="
   ]
  },
  {
   "cell_type": "markdown",
   "metadata": {},
   "source": [
    "If you performed the above calculations correctly, then `X_tain` should have 600 rows and 20 columns, `X_crossVal` should have 200 rows and 20 columns, and `X_test` should have 200 rows and 20 columns. You can verify this by filling the code below:"
   ]
  },
  {
   "cell_type": "code",
   "execution_count": null,
   "metadata": {},
   "outputs": [],
   "source": [
    "# Print the shape of X_train\n",
    "\n",
    "\n",
    "# Print the shape of X_crossVal\n",
    "\n",
    "\n",
    "# Print the shape of X_test\n"
   ]
  },
  {
   "cell_type": "code",
   "execution_count": null,
   "metadata": {},
   "outputs": [],
   "source": []
  }
 ],
 "metadata": {
  "kernelspec": {
   "display_name": "Python 3",
   "language": "python",
   "name": "python3"
  },
  "language_info": {
   "codemirror_mode": {
    "name": "ipython",
    "version": 3
   },
   "file_extension": ".py",
   "mimetype": "text/x-python",
   "name": "python",
   "nbconvert_exporter": "python",
   "pygments_lexer": "ipython3",
   "version": "3.6.3"
  }
 },
 "nbformat": 4,
 "nbformat_minor": 2
}
